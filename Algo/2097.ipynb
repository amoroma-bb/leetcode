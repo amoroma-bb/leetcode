{
 "cells": [
  {
   "cell_type": "code",
   "execution_count": 14,
   "metadata": {},
   "outputs": [
    {
     "name": "stdout",
     "output_type": "stream",
     "text": [
      "5 1\n",
      "4 5\n",
      "11 9\n",
      "9 4\n",
      "defaultdict(<class 'list'>, {5: [1], 4: [5], 11: [9], 9: [4]}) Counter({1: 1, 5: 1, 9: 1, 4: 1}) Counter({5: 1, 4: 1, 11: 1, 9: 1})\n",
      "S:  11\n",
      "st:  [11, 9]\n",
      "st:  [11, 9, 4]\n",
      "st:  [11, 9, 4, 5]\n",
      "st:  [11, 9, 4, 5, 1]\n",
      "route:  [1]\n",
      "route:  [1, 5]\n",
      "route:  [1, 5, 4]\n",
      "route:  [1, 5, 4, 9]\n",
      "route:  [1, 5, 4, 9, 11]\n",
      "[[11, 9], [9, 4], [4, 5], [5, 1]]\n"
     ]
    }
   ],
   "source": [
    "from collections import defaultdict, Counter\n",
    "pairs = [[5,1],[4,5],[11,9],[9,4]]\n",
    "g = defaultdict(list)\n",
    "din, dout = Counter(), Counter()\n",
    "for u,v in pairs:\n",
    "    g[u].append(v)\n",
    "    dout[u] += 1\n",
    "    din[v] += 1\n",
    "    print(u,v)\n",
    "print(g, din, dout)\n",
    "\n",
    "S = pairs[0][0]\n",
    "for p in dout:\n",
    "    if dout[p] - din[p] == 1:\n",
    "        S = p\n",
    "        break\n",
    "route = []\n",
    "st = [S]\n",
    "print('S: ',S)\n",
    "\n",
    "while st:\n",
    "    while g[st[-1]]:\n",
    "        st.append(g[st[-1]].pop())\n",
    "        print('st: ',st)\n",
    "\n",
    "    route.append(st.pop())\n",
    "    print('route: ',route)\n",
    "route.reverse()\n",
    "\n",
    "ans = [[route[i],route[i+1]] for i in range(len(route)-1)]\n",
    "print(ans)"
   ]
  },
  {
   "cell_type": "code",
   "execution_count": null,
   "metadata": {},
   "outputs": [],
   "source": []
  }
 ],
 "metadata": {
  "interpreter": {
   "hash": "9c5aca992622bdafffd50c83212724f2ff5f1641de5b776a9b6f9201383cd611"
  },
  "kernelspec": {
   "display_name": "Python 3.9.7 64-bit ('cenv': conda)",
   "language": "python",
   "name": "python3"
  },
  "language_info": {
   "codemirror_mode": {
    "name": "ipython",
    "version": 3
   },
   "file_extension": ".py",
   "mimetype": "text/x-python",
   "name": "python",
   "nbconvert_exporter": "python",
   "pygments_lexer": "ipython3",
   "version": "3.9.7"
  },
  "orig_nbformat": 4
 },
 "nbformat": 4,
 "nbformat_minor": 2
}
